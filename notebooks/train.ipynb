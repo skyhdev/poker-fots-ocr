{
  "nbformat": 4,
  "nbformat_minor": 0,
  "metadata": {
    "kernelspec": {
      "display_name": "Python 3",
      "language": "python",
      "name": "python3"
    },
    "language_info": {
      "codemirror_mode": {
        "name": "ipython",
        "version": 3
      },
      "file_extension": ".py",
      "mimetype": "text/x-python",
      "name": "python",
      "nbconvert_exporter": "python",
      "pygments_lexer": "ipython3",
      "version": "3.7.6"
    },
    "colab": {
      "name": "train.ipynb",
      "provenance": []
    }
  },
  "cells": [
    {
      "cell_type": "markdown",
      "metadata": {
        "id": "42UMjwKmxNM7",
        "colab_type": "text"
      },
      "source": [
        "<table align=\"center\"><td>\n",
        "  <a target=\"_blank\"  href=\"https://colab.research.google.com/github/Masao-Taketani/FOTS_OCR/blob/master/notebooks/train.ipynb\">\n",
        "    <img width=32px src=\"https://www.tensorflow.org/images/colab_logo_32px.png\" />Run in Google Colab</a>\n",
        "</td></table>"
      ]
    },
    {
      "cell_type": "code",
      "metadata": {
        "id": "3jLIuOF9ygXD",
        "colab_type": "code",
        "colab": {
          "base_uri": "https://localhost:8080/",
          "height": 34
        },
        "outputId": "858ffc2b-6f1d-4a0c-9741-ab6fc40bec0e"
      },
      "source": [
        "%tensorflow_version 1.x"
      ],
      "execution_count": 5,
      "outputs": [
        {
          "output_type": "stream",
          "text": [
            "TensorFlow 1.x selected.\n"
          ],
          "name": "stdout"
        }
      ]
    },
    {
      "cell_type": "code",
      "metadata": {
        "id": "WEpCcbFI6bTX",
        "colab_type": "code",
        "colab": {}
      },
      "source": [
        "import os\n",
        "\n",
        "if \"FOTS_OCR\" not in os.getcwd():\n",
        "    !git clone https://github.com/Masao-Taketani/FOTS_OCR.git\n",
        "\n",
        "os.chdir('FOTS_OCR/')\n",
        "!wget https://github.com/Pay20Y/FOTS_TF/releases/download/v2/SynthText_6_epochs.tar -P ckpt/\n",
        "!tar -xvf ckpt/SynthText_6_epochs.tar"
      ],
      "execution_count": 0,
      "outputs": []
    },
    {
      "cell_type": "code",
      "metadata": {
        "id": "7bG2_tKGyB28",
        "colab_type": "code",
        "colab": {}
      },
      "source": [
        "!python train.py \\\n",
        "  --gpu_list='0' \\\n",
        "  --checkpoint_path=ckpt/ICDAR15/ \\\n",
        "  --pretrained_model_path=ckpt/SynthText_6_epochs/ \\\n",
        "  --training_img_data_dir=data/ICDAR15+13/imgs/ \\\n",
        "  --training_gt_data_dir=data/ICDAR15+13/gts/"
      ],
      "execution_count": 0,
      "outputs": []
    },
    {
      "cell_type": "code",
      "metadata": {
        "id": "CBt-Rn0k5gGm",
        "colab_type": "code",
        "colab": {}
      },
      "source": [
        ""
      ],
      "execution_count": 0,
      "outputs": []
    }
  ]
}